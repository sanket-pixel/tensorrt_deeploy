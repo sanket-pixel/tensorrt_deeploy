{
 "cells": [
  {
   "cell_type": "markdown",
   "metadata": {},
   "source": [
    "## Introduction to TensorRT\n",
    "\n",
    "In this Jupyter notebook, we embark on a fascinating journey to explore the performance and efficiency gains achieved by leveraging TensorRT, NVIDIA's deep learning inference optimizer, in image classification tasks. We begin by using a pre-trained ResNet model in PyTorch to perform simple image classification on a delightful hotdog image. After obtaining the classification results, we delve into the world of optimization, converting the PyTorch model to the ONNX format, and further optimizing it using TensorRT to harness the true potential of NVIDIA GPUs.\n",
    "\n",
    "Through this step-by-step process, we uncover how TensorRT performs extensive optimizations, such as layer fusion and half-precision (FP16) computation, to speed up inference without compromising accuracy. With the TensorRT engine in hand, we then venture into the realm of real-time inference, comparing the outputs between PyTorch and TensorRT to ensure the preservation of classification accuracy.\n",
    "\n",
    "But the journey does not end there! We also conduct a performance evaluation, quantifying the time difference between PyTorch and TensorRT for inference on the same hotdog image. Through latency comparisons, we witness the significant speedup achieved by TensorRT, demonstrating its prowess in accelerating deep learning models for real-world applications.\n",
    "\n",
    "Intriguing insights and exciting revelations await as we unleash the power of TensorRT and embrace the future of fast, efficient, and accurate image classification. Let's embark on this adventure and discover the wonders of PyTorch and TensorRT!\n"
   ]
  },
  {
   "cell_type": "markdown",
   "metadata": {},
   "source": [
    "### Step 1 : Pure Pytorch Inference"
   ]
  },
  {
   "cell_type": "code",
   "execution_count": 1,
   "metadata": {},
   "outputs": [
    {
     "name": "stderr",
     "output_type": "stream",
     "text": [
      "/home/sanket/anaconda3/envs/tensorrt/lib/python3.9/site-packages/tqdm/auto.py:21: TqdmWarning: IProgress not found. Please update jupyter and ipywidgets. See https://ipywidgets.readthedocs.io/en/stable/user_install.html\n",
      "  from .autonotebook import tqdm as notebook_tqdm\n"
     ]
    }
   ],
   "source": [
    "from torchvision import models\n",
    "import cv2\n",
    "import torch\n",
    "from torchvision.transforms import Resize, Compose, ToTensor, Normalize"
   ]
  },
  {
   "cell_type": "code",
   "execution_count": 2,
   "metadata": {},
   "outputs": [],
   "source": [
    "def preprocess_image(img_path):\n",
    "    # transformations for the input data\n",
    "    transforms = Compose([\n",
    "        ToTensor(),\n",
    "        Resize(224),\n",
    "        Normalize(mean=[0.485, 0.456, 0.406], std=[0.229, 0.224, 0.225]),\n",
    "    ])\n",
    "    # read input image\n",
    "    input_img = cv2.imread(img_path)\n",
    "    # do transformations\n",
    "    input_data = transforms(input_img)\n",
    "    batch_data = torch.unsqueeze(input_data, 0)\n",
    "    return batch_data\n",
    "\n",
    "def postprocess(output_data):\n",
    "    # get class names\n",
    "    with open(\"../data/imagenet-classes.txt\") as f:\n",
    "        classes = [line.strip() for line in f.readlines()]\n",
    "    # calculate human-readable value by softmax\n",
    "    confidences = torch.nn.functional.softmax(output_data, dim=1)[0] * 100\n",
    "    # find top predicted classes\n",
    "    _, indices = torch.sort(output_data, descending=True)\n",
    "    i = 0\n",
    "    # print the top classes predicted by the model\n",
    "    while confidences[indices[0][i]] > 50:\n",
    "        class_idx = indices[0][i]\n",
    "        print(\n",
    "            \"class:\",\n",
    "            classes[class_idx],\n",
    "            \", confidence:\",\n",
    "            confidences[class_idx].item(),\n",
    "            \"%, index:\",\n",
    "            class_idx.item(),\n",
    "        )\n",
    "        i += 1"
   ]
  },
  {
   "cell_type": "code",
   "execution_count": 3,
   "metadata": {},
   "outputs": [
    {
     "name": "stderr",
     "output_type": "stream",
     "text": [
      "/home/sanket/anaconda3/envs/tensorrt/lib/python3.9/site-packages/torchvision/models/_utils.py:208: UserWarning: The parameter 'pretrained' is deprecated since 0.13 and will be removed in 0.15, please use 'weights' instead.\n",
      "  warnings.warn(\n",
      "/home/sanket/anaconda3/envs/tensorrt/lib/python3.9/site-packages/torchvision/models/_utils.py:223: UserWarning: Arguments other than a weight enum or `None` for 'weights' are deprecated since 0.13 and will be removed in 0.15. The current behavior is equivalent to passing `weights=ResNet50_Weights.IMAGENET1K_V1`. You can also use `weights=ResNet50_Weights.DEFAULT` to get the most up-to-date weights.\n",
      "  warnings.warn(msg)\n"
     ]
    },
    {
     "name": "stdout",
     "output_type": "stream",
     "text": [
      "class: hotdog, hot dog, red hot , confidence: 60.50566864013672 %, index: 934\n"
     ]
    }
   ],
   "source": [
    "input = preprocess_image(\"../data/hotdog.jpg\").cuda()\n",
    "model = models.resnet50(pretrained=True)\n",
    "model.eval()\n",
    "model.cuda()\n",
    "output = model(input)\n",
    "\n",
    "postprocess(output)"
   ]
  },
  {
   "cell_type": "markdown",
   "metadata": {},
   "source": [
    "#### Compute Average Latency of Pure Pytorch Inference"
   ]
  },
  {
   "cell_type": "code",
   "execution_count": 4,
   "metadata": {},
   "outputs": [],
   "source": [
    "import time\n",
    "\n",
    "# Pure PyTorch Inference\n",
    "def pytorch_inference(model, input):\n",
    "    start_time = time.time()\n",
    "    output = model(input)\n",
    "    end_time = time.time()\n",
    "    return output, (end_time - start_time)\n",
    "\n",
    "# Number of iterations\n",
    "num_iterations = 10\n",
    "\n",
    "# Run Pure PyTorch Inference for 1000 iterations\n",
    "total_pytorch_latency = 0\n",
    "for i in range(num_iterations):\n",
    "    with torch.no_grad():\n",
    "        output, latency = pytorch_inference(model, input)\n",
    "        total_pytorch_latency += latency\n",
    "average_pytorch_latency = (total_pytorch_latency / num_iterations) * 1000\n",
    "torch.cuda.empty_cache()"
   ]
  },
  {
   "cell_type": "markdown",
   "metadata": {},
   "source": [
    "### Step 2 : Convert Pytorch model to ONNX"
   ]
  },
  {
   "cell_type": "code",
   "execution_count": 5,
   "metadata": {},
   "outputs": [],
   "source": [
    "ONNX_FILE_PATH = '../deploy_tools/resnet.onnx'\n",
    "torch.onnx.export(model, input, ONNX_FILE_PATH, input_names=['input'],\n",
    "                  output_names=['output'], export_params=True)\n",
    "\n"
   ]
  },
  {
   "cell_type": "markdown",
   "metadata": {},
   "source": [
    "### Step 3 : Convert ONNX to TensorRT Engine"
   ]
  },
  {
   "cell_type": "code",
   "execution_count": 6,
   "metadata": {},
   "outputs": [],
   "source": [
    "import pycuda.driver as cuda\n",
    "import pycuda.autoinit\n",
    "import numpy as np\n",
    "import tensorrt as trt\n"
   ]
  },
  {
   "cell_type": "code",
   "execution_count": 8,
   "metadata": {},
   "outputs": [
    {
     "name": "stdout",
     "output_type": "stream",
     "text": [
      "[07/23/2023-14:25:23] [TRT] [W] CUDA lazy loading is not enabled. Enabling it can significantly reduce device memory usage and speed up TensorRT initialization. See \"Lazy Loading\" section of CUDA documentation https://docs.nvidia.com/cuda/cuda-c-programming-guide/index.html#lazy-loading\n"
     ]
    }
   ],
   "source": [
    "TRT_LOGGER = trt.Logger(trt.Logger.WARNING)\n",
    "builder = trt.Builder(TRT_LOGGER)"
   ]
  },
  {
   "cell_type": "code",
   "execution_count": 9,
   "metadata": {},
   "outputs": [],
   "source": [
    "EXPLICIT_BATCH = 1 << (int)(trt.NetworkDefinitionCreationFlag.EXPLICIT_BATCH)\n",
    "network = builder.create_network(1 << int(trt.NetworkDefinitionCreationFlag.EXPLICIT_BATCH), )"
   ]
  },
  {
   "cell_type": "code",
   "execution_count": 11,
   "metadata": {},
   "outputs": [],
   "source": [
    "parser = trt.OnnxParser(network, TRT_LOGGER)\n",
    "success = parser.parse_from_file(ONNX_FILE_PATH)\n",
    "for idx in range(parser.num_errors):\n",
    "    print(parser.get_error(idx))\n"
   ]
  },
  {
   "cell_type": "code",
   "execution_count": 12,
   "metadata": {},
   "outputs": [],
   "source": [
    "config = builder.create_builder_config()\n",
    "config.set_memory_pool_limit(trt.MemoryPoolType.WORKSPACE, 1 << 22) # 1 MiB\n",
    "config.set_flag(trt.BuilderFlag.FP16)"
   ]
  },
  {
   "cell_type": "code",
   "execution_count": 13,
   "metadata": {},
   "outputs": [
    {
     "name": "stdout",
     "output_type": "stream",
     "text": [
      "[07/23/2023-14:26:32] [TRT] [W] TensorRT encountered issues when converting weights between types and that could affect accuracy.\n",
      "[07/23/2023-14:26:32] [TRT] [W] If this is not the desired behavior, please modify the weights or retrain with regularization to adjust the magnitude of the weights.\n",
      "[07/23/2023-14:26:32] [TRT] [W] Check verbose logs for the list of affected weights.\n",
      "[07/23/2023-14:26:32] [TRT] [W] - 80 weights are affected by this issue: Detected subnormal FP16 values.\n",
      "[07/23/2023-14:26:32] [TRT] [W] - 37 weights are affected by this issue: Detected values less than smallest positive FP16 subnormal value and converted them to the FP16 minimum subnormalized value.\n"
     ]
    }
   ],
   "source": [
    "serialized_engine = builder.build_serialized_network(network, config)"
   ]
  },
  {
   "cell_type": "code",
   "execution_count": 14,
   "metadata": {},
   "outputs": [],
   "source": [
    "with open(\"../deploy_tools/resnet.engine\", \"wb\") as f:\n",
    "    f.write(serialized_engine)"
   ]
  },
  {
   "cell_type": "markdown",
   "metadata": {},
   "source": [
    "### Step 4 : Run Inference on TensorRT Engine"
   ]
  },
  {
   "cell_type": "code",
   "execution_count": 18,
   "metadata": {},
   "outputs": [
    {
     "name": "stdout",
     "output_type": "stream",
     "text": [
      "[07/23/2023-14:28:36] [TRT] [W] CUDA lazy loading is not enabled. Enabling it can significantly reduce device memory usage and speed up TensorRT initialization. See \"Lazy Loading\" section of CUDA documentation https://docs.nvidia.com/cuda/cuda-c-programming-guide/index.html#lazy-loading\n"
     ]
    }
   ],
   "source": [
    "runtime = trt.Runtime(TRT_LOGGER)\n",
    "\n",
    "with open(\"../deploy_tools/resnet.engine\", \"rb\") as f:\n",
    "    serialized_engine = f.read()\n",
    "    \n",
    "engine = runtime.deserialize_cuda_engine(serialized_engine)\n",
    "\n",
    "context = engine.create_execution_context()"
   ]
  },
  {
   "cell_type": "code",
   "execution_count": 19,
   "metadata": {},
   "outputs": [
    {
     "name": "stderr",
     "output_type": "stream",
     "text": [
      "/tmp/ipykernel_9240/3786040357.py:2: DeprecationWarning: Use get_tensor_shape instead.\n",
      "  h_input = cuda.pagelocked_empty(trt.volume(engine.get_binding_shape(0)), dtype=np.float32)\n",
      "/tmp/ipykernel_9240/3786040357.py:3: DeprecationWarning: Use get_tensor_shape instead.\n",
      "  h_input = cuda.pagelocked_empty(trt.volume(engine.get_binding_shape(0)), dtype=np.float32)\n",
      "/tmp/ipykernel_9240/3786040357.py:4: DeprecationWarning: Use get_tensor_shape instead.\n",
      "  h_output = cuda.pagelocked_empty(trt.volume(engine.get_binding_shape(1)), dtype=np.float32)\n"
     ]
    }
   ],
   "source": [
    "# Determine dimensions and create page-locked memory buffers (i.e. won't be swapped to disk) to hold host inputs/outputs.\n",
    "h_input = cuda.pagelocked_empty(trt.volume(engine.get_binding_shape(0)), dtype=np.float32)\n",
    "h_input = cuda.pagelocked_empty(trt.volume(engine.get_binding_shape(0)), dtype=np.float32)\n",
    "h_output = cuda.pagelocked_empty(trt.volume(engine.get_binding_shape(1)), dtype=np.float32)\n",
    "# Allocate device memory for inputs and outputs.\n",
    "d_input = cuda.mem_alloc(h_input.nbytes)\n",
    "d_output = cuda.mem_alloc(h_output.nbytes)\n",
    "# Create a stream in which to copy inputs/outputs and run inference.\n",
    "stream = cuda.Stream()"
   ]
  },
  {
   "cell_type": "code",
   "execution_count": 20,
   "metadata": {},
   "outputs": [],
   "source": [
    "host_input = np.array(preprocess_image(\"../data/hotdog.jpg\").numpy(), dtype=np.float32, order='C')\n",
    "# Transfer input data to the GPU.\n",
    "cuda.memcpy_htod_async(d_input, host_input, stream)\n",
    "# Run inference.\n",
    "context. execute_async_v2(bindings=[int(d_input), int(d_output)], stream_handle=stream.handle)\n",
    "# Transfer predictions back from the GPU.\n",
    "cuda.memcpy_dtoh_async(h_output, d_output, stream)\n",
    "# Synchronize the stream\n",
    "stream.synchronize()\n"
   ]
  },
  {
   "cell_type": "code",
   "execution_count": 21,
   "metadata": {},
   "outputs": [],
   "source": [
    "tensorrt_output = torch.Tensor(h_output).unsqueeze(0)"
   ]
  },
  {
   "cell_type": "code",
   "execution_count": 22,
   "metadata": {},
   "outputs": [
    {
     "name": "stdout",
     "output_type": "stream",
     "text": [
      "class: hotdog, hot dog, red hot , confidence: 60.48761749267578 %, index: 934\n"
     ]
    }
   ],
   "source": [
    "postprocess(tensorrt_output)"
   ]
  },
  {
   "cell_type": "markdown",
   "metadata": {},
   "source": [
    "#### Compute Error in Output between Pure Torch and TensorRT"
   ]
  },
  {
   "cell_type": "code",
   "execution_count": 24,
   "metadata": {},
   "outputs": [
    {
     "name": "stdout",
     "output_type": "stream",
     "text": [
      "MAE: 0.005440928041934967\n"
     ]
    }
   ],
   "source": [
    "# Calculate MAE between pure torch output and TensorRT inference output\n",
    "mae = torch.mean(torch.abs(output.cpu() - tensorrt_output))\n",
    "print(\"MAE:\", mae.item())"
   ]
  },
  {
   "cell_type": "markdown",
   "metadata": {},
   "source": [
    "#### Measure TensorRT Inference Average Latency"
   ]
  },
  {
   "cell_type": "code",
   "execution_count": 25,
   "metadata": {},
   "outputs": [],
   "source": [
    "# calculate latency\n",
    "import time\n",
    "import torch\n",
    "\n",
    "# TensorRT FP16 Inference\n",
    "def tensorrt_inference(context, d_input, d_output, host_input):\n",
    "    start_time = time.time()\n",
    "    cuda.memcpy_htod_async(d_input, host_input, stream)\n",
    "    context.execute_async_v2(bindings=[int(d_input), int(d_output)], stream_handle=stream.handle)\n",
    "    cuda.memcpy_dtoh_async(h_output, d_output, stream)\n",
    "    stream.synchronize()\n",
    "    tensorrt_output = torch.Tensor(h_output).unsqueeze(0)\n",
    "    end_time = time.time()\n",
    "    return tensorrt_output, (end_time - start_time)\n"
   ]
  },
  {
   "cell_type": "code",
   "execution_count": 32,
   "metadata": {},
   "outputs": [],
   "source": [
    "# Number of iterations\n",
    "num_iterations = 10\n",
    "\n",
    "# Run TensorRT FP16 Inference for 1000 iterations\n",
    "total_tensorrt_latency = 0\n",
    "for _ in range(num_iterations):\n",
    "    with torch.no_grad():\n",
    "        tensorrt_output, latency = tensorrt_inference(context, d_input, d_output, host_input)\n",
    "        total_tensorrt_latency += latency\n",
    "average_tensorrt_latency = (total_tensorrt_latency / num_iterations) * 1000"
   ]
  },
  {
   "cell_type": "code",
   "execution_count": 28,
   "metadata": {},
   "outputs": [
    {
     "data": {
      "image/png": "[encoded data removed]",
      "text/plain": [
       "<Figure size 640x480 with 1 Axes>"
      ]
     },
     "metadata": {},
     "output_type": "display_data"
    }
   ],
   "source": [
    "from matplotlib import pyplot as plt\n",
    "\n",
    "latencies = [average_pytorch_latency, average_tensorrt_latency]\n",
    "labels = ['Pure PyTorch', 'TensorRT']\n",
    "\n",
    "# Create a bar chart\n",
    "plt.bar(labels, latencies, color=['blue', 'green'])\n",
    "\n",
    "# Add labels and title\n",
    "plt.xlabel('Inference Method')\n",
    "plt.ylabel('Average Latency (ms)')\n",
    "plt.title('Comparison of Latency: Pure PyTorch vs. TensorRT')\n",
    "\n",
    "# Show the plot\n",
    "plt.show()\n"
   ]
  }
 ],
 "metadata": {
  "kernelspec": {
   "display_name": "tensorrt",
   "language": "python",
   "name": "python3"
  },
  "language_info": {
   "codemirror_mode": {
    "name": "ipython",
    "version": 3
   },
   "file_extension": ".py",
   "mimetype": "text/x-python",
   "name": "python",
   "nbconvert_exporter": "python",
   "pygments_lexer": "ipython3",
   "version": "3.9.16"
  },
  "orig_nbformat": 4
 },
 "nbformat": 4,
 "nbformat_minor": 2
}
